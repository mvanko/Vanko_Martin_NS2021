{
 "cells": [
  {
   "cell_type": "code",
   "execution_count": null,
   "metadata": {},
   "outputs": [],
   "source": [
    "#Potrebné knižnice:\n",
    "# as (alias) - sa využíva pre ľahší prístup ku knižniciam \n",
    "#Pandas je knižnica pre dátovú analýzu a manipuláciu s datasetmy a dátami\n",
    "import pandas as pd\n",
    "\n",
    "#Numpy je knižnica pre multidimenzionálne polia, matice a matematické funkcie\n",
    "import numpy as np\n",
    "\n",
    "#Seaborn je knižnica podobná matplotlib, pomáha vykreslovať informácie vo forme štatistických grafov\n",
    "import seaborn as sns\n",
    "\n",
    "#Matplotlib je knižnica pre knižnica pre vykreslovanie grafov, je rozšírením knižnice numpy\n",
    "import matplotlib.pyplot as plt\n",
    "\n",
    "#Sklearn je knižnica pre strojové učenie a prediktívnu analýzu  \n",
    "import sklearn\n",
    "\n",
    "#Keras je knižnica pre vytváranie neurónových sietí\n",
    "import keras"
   ]
  },
  {
   "cell_type": "code",
   "execution_count": null,
   "metadata": {},
   "outputs": [],
   "source": [
    "#Pre ľahší prístup k funkciám knižníc si importujeme moduly ktoré potrebujeme:\n",
    " \n",
    "#Sequential - sekvenčný model, definovaný ako lineárna postupnosť vrstiev  \n",
    "from keras.models import Sequential\n",
    "\n",
    "#Dense = označenie pravidelnej hlboko spojenej vrstvy pre neurónové siete, najčastejšie využívaná vrstva v kerase\n",
    "from keras.layers import Dense\n",
    "\n",
    "#to_categorical = funkcia, ktorá konvertuje vektor integerov na binárnu triedu\n",
    "from keras.utils import to_categorical\n",
    "\n",
    "#scipy - knižnica pre vedecké a technické výpočty, lineárnu algebru a pod.\n",
    "#normaltest = test, ktorý overuje nulovú hypotézu a či sa dáta líšia od normálovej distribúcie\n",
    "from scipy.stats import normaltest\n",
    "\n",
    "#f1_score = priemer presnosti a senzitivity, najlepšia hodnota je 1 a najhoršia 0\n",
    "#precision_score = presnosť s akou klasifikátor označuje správne/nesprávne výsledky, najlepšia hodnota je 1 a najhoršia 0\n",
    "#recall_score = schopnosť klasifikátora nájsť všetky pozitívne vzorky\n",
    "#accuracy_score = klasifikačné skóre presnosti\n",
    "#classification_report = dokáže vypísať report s hlavnými klasifikačnými metrikami\n",
    "#confusion_matrix = dokáže vypočítať a znázorniť maticu vyhodnotenia presnosti klasifikácie\n",
    "from sklearn.metrics import f1_score,precision_score,recall_score,accuracy_score,classification_report,confusion_matrix\n",
    "\n",
    "#train_test_split = funkcia, ktorá dokáže rozdeliť dáta na náhodné testovacie a trénovacie podmnožiny\n",
    "from sklearn.model_selection import train_test_split\n",
    "\n",
    "#StandardScaler - štandardizuje dáta odstránením priemeru a zmení ich podľa odchýlky dát \n",
    "from sklearn.preprocessing import StandardScaler\n",
    "\n",
    "#RandomForestClassifier - klasifikátor, ktorý podmnožiny dát rozdelí do niekoľkých rozhodovacích stromov a využije\n",
    "#spriemerovanie pre vylepšenie presnosti predikcie\n",
    "from sklearn.ensemble import RandomForestClassifier\n",
    "\n",
    "#LogisticRegression - klasifikátor, implementuje regularizovanú logistickú regresiu\n",
    "#používame ho na modelovanie pravdepodobnosti pre existenciu triedy alebo udalosti, čo je v našom prípade smrť \n",
    "from sklearn.linear_model import LogisticRegression"
   ]
  },
  {
   "cell_type": "code",
   "execution_count": null,
   "metadata": {},
   "outputs": [],
   "source": [
    "#nastavenie štýlu grafov knižnice matplotlib\n",
    "plt.style.use('default')"
   ]
  },
  {
   "cell_type": "code",
   "execution_count": null,
   "metadata": {},
   "outputs": [],
   "source": [
    "#načítanie datasetu z csv súboru do premennej data\n",
    "data = pd.read_csv(\"heart_failure_clinical_records_dataset.csv\" , sep=\",\")"
   ]
  },
  {
   "cell_type": "code",
   "execution_count": null,
   "metadata": {},
   "outputs": [],
   "source": [
    "#zobrazenie prvých 5 riadkov dát z datasetu pre skontroľovanie dát\n",
    "data.head()"
   ]
  },
  {
   "cell_type": "code",
   "execution_count": null,
   "metadata": {},
   "outputs": [],
   "source": [
    "#zobrazenie počtu duplikátov v datasete\n",
    "print(\"Počet duplikátov: \", data.duplicated().sum())"
   ]
  },
  {
   "cell_type": "code",
   "execution_count": null,
   "metadata": {},
   "outputs": [],
   "source": [
    "#informácie o datasete\n",
    "data.info()\n",
    "#v datasete máme 13 stĺpcov s 299 záznamami, datatypy sú číselné buď float alebo int\n",
    "#jednotlivé stĺpce a ich reprezentácia sú:\n",
    "#age - vek - celočíselná premenná - hodnoty 40 až 95 - min až max vek pacientov v datasete\n",
    "#anaemia - chudoktvnosť - kategorická premenná  - hodnota 1/0 - chudokrvný/nechudokrvný\n",
    "#creatinine_phosphokinase - kreatínkináza - celočíselná premenná - hodnota 23 až 7861 - výška enzýmu CPK v krvi\n",
    "#diabetes - cukrovka - - kategorická premenná  - hodnota 1/0 - má/nemá cukrovku\n",
    "#ejection_fraction - Ejekčná frakcia - celočíselná premenná - hodnota 14 až 80 - hodnota % krvi, ktorú vytlačí ľavá srdcová komora\n",
    "#high_blood_pressure - vysoký krvný tlak - kategorická premenná  - hodnota 1/0 - má/nemá vysoký krvný tlak\n",
    "#platelets - krvné doštičky - číselná premenná - hodnota 25100 až 850000 - množstvo krvných doštičiek v krvi\n",
    "#serum_creatinine - kreatinín - číselná premenná - hodnota 0,5 až 9,4 - váška kreatinínu v krvi\n",
    "#serum_sodium - sodík - celočíselná premenná - hodnota 113 až 148 - výška sodíku v krvi\n",
    "#sex - pohlavie - - kategorická premenná  - hodnota 1/0 - Muž/Žena\n",
    "#smoking - fajčenie - kategorická premenná  - hodnota 1/0 - fajčiar/nefajčiar                \n",
    "#time - čas - celočíselná premenná - hodnota 4 až 285 - reprezentácia postupnosti času v dňoch\n",
    "#DEATH_EVENT - úmrtie - kategorická premenná  - hodnota 1/0 - žije/zomrel"
   ]
  },
  {
   "cell_type": "code",
   "execution_count": null,
   "metadata": {},
   "outputs": [],
   "source": [
    "#popis dát v datasete\n",
    "data.describe()\n",
    "#count - počet záznamov v danom stĺpci\n",
    "#mean - priemerná hodnota v danom stĺpci\n",
    "#std - smerodajná odchýlka v danom stĺpci\n",
    "#min - minimálna hodnota v danom stĺpci\n",
    "#25% - Q1 - prvý/dolný kvartil\n",
    "#50% - Q2 - druhý kvartil/medián\n",
    "#75% - Q3 - tretí/horný kvartil\n",
    "#max - maximálna hodnota v danom stĺpci "
   ]
  },
  {
   "cell_type": "code",
   "execution_count": null,
   "metadata": {},
   "outputs": [],
   "source": [
    "#vykreslenie párovej korelačnej analýzy dát z databázy\n",
    "#korelácia rovnakých stĺpcov je vždy = 1\n",
    "#čím je korelačné číslo menšie, tým je väčšia korelácia\n",
    "corrMatrix = data.corr()\n",
    "#nastavíme výšku a šírku grafu\n",
    "plt.subplots(figsize=(20,20))\n",
    "#pomocou knižnice seaborn vytvoríme heatmap, ktorý pre číselné hodnoty vytvorí graf s farebným vyzobrazením\n",
    "sns.heatmap(corrMatrix, annot=True)\n",
    "plt.show()"
   ]
  },
  {
   "cell_type": "code",
   "execution_count": null,
   "metadata": {},
   "outputs": [],
   "source": [
    "# Z korelácií vidíme, že smrť malo najviac za príčinu:\n",
    "# 1. time - čas\n",
    "# 2. ejection_fraciton - ejekčná frakcia\n",
    "# 3. serum_sodium\n",
    "# Lineárnu koreláciu so smrťou má:\n",
    "# 1. age - vek\n",
    "# 2. serum_creatinine - kreatinín\n",
    "# Usudzujeme teda, že hlavné atribúty sú time, ejection_fraction, age, serum_creatinine a serum_sodium"
   ]
  },
  {
   "cell_type": "code",
   "execution_count": null,
   "metadata": {},
   "outputs": [],
   "source": [
    "#Zmena kategorických dát na kategórie\n",
    "# z typov int a float dáme jednotlivým kategorickým triedam typ category\n",
    "data['anaemia'] = data['anaemia'].astype('category')\n",
    "data['diabetes'] = data['diabetes'].astype('category')\n",
    "data['high_blood_pressure'] = data['high_blood_pressure'].astype('category')\n",
    "data['smoking'] = data['smoking'].astype('category')\n",
    "data['sex'] = data['sex'].astype('category')\n",
    "data['DEATH_EVENT'] = data['DEATH_EVENT'].astype('category')\n",
    "#všetky nekategorické jednotky si dáme do samostatnej premennej\n",
    "nekategoricke = ['creatinine_phosphokinase', 'platelets', 'ejection_fraction', 'serum_sodium',\n",
    "        'serum_creatinine', 'time', 'age']"
   ]
  },
  {
   "cell_type": "code",
   "execution_count": null,
   "metadata": {},
   "outputs": [],
   "source": [
    "#mode - modus/najčastejšia hodnota\n",
    "#vypíšeme si najčastejšie sa vyskytujúcu hodnotu z nekategorických premenných\n",
    "data[nekategoricke].mode()"
   ]
  },
  {
   "cell_type": "code",
   "execution_count": null,
   "metadata": {},
   "outputs": [],
   "source": [
    "#Z popisu vyšie, vieme zistiť:\n",
    "# Väčšina pacientov má 60 rokov,\n",
    "# Bola kardiovaskulárnym pacientom 187 až 250 dní,\n",
    "# Mali 1 mg/dL kreatinínu v krvi,\n",
    "# Mali 136mEg/L sodíku v krvi,\n",
    "# Ľavá strana srdca vytláčala 35% krvi,\n",
    "# Mali 263358 kiloplatelets/mL,\n",
    "# Mali 582 mcg/L enzýmu CPK v krvi."
   ]
  },
  {
   "cell_type": "code",
   "execution_count": null,
   "metadata": {},
   "outputs": [],
   "source": [
    "#Exploračná analýza\n",
    "#Rozdelenie pohlaví\n",
    "#pomocou value_counts() si necháme spočítať rozdielne hodnoty čiže: počet 0 a 1 v triede sex\n",
    "#pomocou plot() vykreslíme graf typu: koláčový, s nadpisom Pohlavie s významom hodnôt\n",
    "data['sex'].value_counts().plot(kind = 'pie', title='Pohlavie \\n 0: Žena | 1: Muž ')"
   ]
  },
  {
   "cell_type": "code",
   "execution_count": null,
   "metadata": {},
   "outputs": [],
   "source": [
    "#percentuálny podieľ zobrazený na grafe si vieme ukázať aj pomocou číselného zápisu\n",
    "#percentuálny podieľ vypočítame ako spočítanie jednotlivých hodnôt 0 a 1 a následne ich vydelením celkového počtu\n",
    "#(count/sum)*100\n",
    "(data['sex'].value_counts()/sum(data['sex'].value_counts()))*100"
   ]
  },
  {
   "cell_type": "code",
   "execution_count": null,
   "metadata": {},
   "outputs": [],
   "source": [
    "#Z rozdelenia pohlaví vidíme, že väčšinové zastúpenie v tomto datasete majú muži"
   ]
  },
  {
   "cell_type": "code",
   "execution_count": null,
   "metadata": {},
   "outputs": [],
   "source": [
    "#Rozdelenie úmrtí\n",
    "#pomocou value_counts() si necháme spočítať rozdielne hodnoty čiže: počet 0 a 1 v triede DEATH_EVENT\n",
    "#pomocou plot() vykreslíme graf typu: koláčový, s nadpisom Úmrtia s významom hodnôt\n",
    "data['DEATH_EVENT'].value_counts().plot(kind='pie', title='Úmrtia \\n (0: Prežili | 1: Zomreli )')"
   ]
  },
  {
   "cell_type": "code",
   "execution_count": null,
   "metadata": {},
   "outputs": [],
   "source": [
    "#percentuálny podieľ zobrazený na grafe si vieme ukázať aj pomocou číselného zápisu\n",
    "#percentuálny podieľ vypočítame ako spočítanie jednotlivých hodnôt 0 a 1 a následne ich vydelením celkového počtu\n",
    "#(count/sum)*100\n",
    "(data['DEATH_EVENT'].value_counts()/sum(data['DEATH_EVENT'].value_counts()))*100"
   ]
  },
  {
   "cell_type": "code",
   "execution_count": null,
   "metadata": {},
   "outputs": [],
   "source": [
    "#Z rozdelenia úmrtí môžeme dedukovať, že u väčšiny pacientov nenastala smrť"
   ]
  },
  {
   "cell_type": "code",
   "execution_count": null,
   "metadata": {},
   "outputs": [],
   "source": [
    "#Rozdelenie fajčiarov\n",
    "#pomocou value_counts() si necháme spočítať rozdielne hodnoty čiže: počet 0 a 1 v triede smoking\n",
    "#pomocou plot() vykreslíme graf typu: koláčový, s nadpisom Fajčenie s významom hodnôt\n",
    "data['smoking'].value_counts().plot(kind = 'pie', title = 'Fajčenie \\n (0: Nefajčiar | 1: Fajčiar )')"
   ]
  },
  {
   "cell_type": "code",
   "execution_count": null,
   "metadata": {},
   "outputs": [],
   "source": [
    "#percentuálny podieľ zobrazený na grafe si vieme ukázať aj pomocou číselného zápisu\n",
    "#percentuálny podieľ vypočítame ako spočítanie jednotlivých hodnôt 0 a 1 a následne ich vydelením celkového počtu\n",
    "#(count/sum)*100\n",
    "(data['smoking'].value_counts()/sum(data['smoking'].value_counts()))*100"
   ]
  },
  {
   "cell_type": "code",
   "execution_count": null,
   "metadata": {},
   "outputs": [],
   "source": [
    "#Z rozdelenia fajčiarov usudzujeme, že väčšina pacientov nefajčila"
   ]
  },
  {
   "cell_type": "code",
   "execution_count": null,
   "metadata": {},
   "outputs": [],
   "source": [
    "#Rozdelenie pacientov s cukrovkou\n",
    "#pomocou value_counts() si necháme spočítať rozdielne hodnoty čiže: počet 0 a 1 v triede diabetes\n",
    "#pomocou plot() vykreslíme graf typu: koláčový, s nadpisom Cukrovka s významom hodnôt\n",
    "data['diabetes'].value_counts().plot(kind= 'pie', title = 'Cukrovka \\n (0: Nemá cukrovku | 1: Má cukrovku )')"
   ]
  },
  {
   "cell_type": "code",
   "execution_count": null,
   "metadata": {},
   "outputs": [],
   "source": [
    "#percentuálny podieľ zobrazený na grafe si vieme ukázať aj pomocou číselného zápisu\n",
    "#percentuálny podieľ vypočítame ako spočítanie jednotlivých hodnôt 0 a 1 a následne ich vydelením celkového počtu\n",
    "#(count/sum)*100\n",
    "(data['diabetes'].value_counts()/sum(data['diabetes'].value_counts()))*100"
   ]
  },
  {
   "cell_type": "code",
   "execution_count": null,
   "metadata": {},
   "outputs": [],
   "source": [
    "#Z grafu vyššie vieme povedať, že väčšina z pacientov netrpí cukrovkou"
   ]
  },
  {
   "cell_type": "code",
   "execution_count": null,
   "metadata": {},
   "outputs": [],
   "source": [
    "#Rozdelenie pacientov s vysokým krvným tlakom\n",
    "#pomocou value_counts() si necháme spočítať rozdielne hodnoty čiže: počet 0 a 1 v triede high_blood_pressure\n",
    "#pomocou plot() vykreslíme graf typu: koláčový, s nadpisom Vysoký krvný tlak s významom hodnôt\n",
    "data['high_blood_pressure'].value_counts().plot(kind = 'pie', title= 'Vysoký krvný tlak - VKT \\n (0: Má VKT | 1: Nemá VKT )')"
   ]
  },
  {
   "cell_type": "code",
   "execution_count": null,
   "metadata": {},
   "outputs": [],
   "source": [
    "#percentuálny podieľ zobrazený na grafe si vieme ukázať aj pomocou číselného zápisu\n",
    "#percentuálny podieľ vypočítame ako spočítanie jednotlivých hodnôt 0 a 1 a následne ich vydelením celkového počtu\n",
    "#(count/sum)*100\n",
    "(data['high_blood_pressure'].value_counts()/sum(data['high_blood_pressure'].value_counts()))*100"
   ]
  },
  {
   "cell_type": "code",
   "execution_count": null,
   "metadata": {},
   "outputs": [],
   "source": [
    "#Podľa grafu rozdelenia vidíme, že väčšina pacientov nemá problém s vysokým krvným tlakom"
   ]
  },
  {
   "cell_type": "code",
   "execution_count": null,
   "metadata": {},
   "outputs": [],
   "source": [
    "#pomocou knižnice pandas vytvoríme krížovú tabuľku pre hodnoty dvoch tried a zobrazíme ju ako stĺpový graf\n",
    "#v tomto prípade sa jedná o triedy pohlavie a úmrtie\n",
    "#na X-ovej osy máme zobrazené pohlavia, 0- žena, 1-muž\n",
    "#na Y-ovej osy je zobrazené či nastalo/nenastalo úmrtie pre jednotlivé pohlavia\n",
    "#rot označuje otočenie označenia hodnôt v X-ovej časti grafu\n",
    "pd.crosstab(data['sex'], data['DEATH_EVENT']).plot(kind = 'bar', rot = 0)"
   ]
  },
  {
   "cell_type": "code",
   "execution_count": null,
   "metadata": {},
   "outputs": [],
   "source": [
    "#Z grafu vyššie vieme povedať, že z celého datasetu majú väčšiu úmrtnosť muži"
   ]
  },
  {
   "cell_type": "code",
   "execution_count": null,
   "metadata": {},
   "outputs": [],
   "source": [
    "#pomocou knižnice pandas vytvoríme krížovú tabuľku pre hodnoty dvoch tried a zobrazíme ju ako stĺpový graf\n",
    "#v tomto prípade sa jedná o triedy chudokrvnosť a úmrtie\n",
    "#na X-ovej osy máme zobrazenú chudokrvnosť, 0- nechudokrvný, 1- chudokrvný\n",
    "#na Y-ovej osy je zobrazené či nastalo/nenastalo úmrtie\n",
    "#rot označuje otočenie označenia hodnôt v X-ovej časti grafu\n",
    "pd.crosstab(data['anaemia'], data['DEATH_EVENT']).plot(kind = 'bar', rot = 0)"
   ]
  },
  {
   "cell_type": "code",
   "execution_count": null,
   "metadata": {},
   "outputs": [],
   "source": [
    "#Z grafu vieme vyčítať, že zomrelo viacej ľudí, ktorý netrpeli chudokrvnosťou"
   ]
  },
  {
   "cell_type": "code",
   "execution_count": null,
   "metadata": {},
   "outputs": [],
   "source": [
    "#pomocou knižnice pandas vytvoríme krížovú tabuľku pre hodnoty dvoch tried a zobrazíme ju ako stĺpový graf\n",
    "#v tomto prípade sa jedná o triedy cukrovka a úmrtie\n",
    "#na X-ovej osy máme zobrazenú cukrovku, 0- nemá cukrovku, 1- má cukrovku\n",
    "#na Y-ovej osy je zobrazené či nastalo/nenastalo úmrtie\n",
    "#rot označuje otočenie označenia hodnôt v X-ovej časti grafu\n",
    "pd.crosstab(data['diabetes'], data['DEATH_EVENT']).plot(kind = 'bar', rot = 0)"
   ]
  },
  {
   "cell_type": "code",
   "execution_count": null,
   "metadata": {},
   "outputs": [],
   "source": [
    "#Z grafu vieme vyčítať, že zomrelo viacej ľudí, ktorý nemali cukrovku "
   ]
  },
  {
   "cell_type": "code",
   "execution_count": null,
   "metadata": {},
   "outputs": [],
   "source": [
    "#pomocou knižnice pandas vytvoríme krížovú tabuľku pre hodnoty dvoch tried a zobrazíme ju ako stĺpový graf\n",
    "#v tomto prípade sa jedná o triedy vysoký krvný tlak a úmrtie\n",
    "#na X-ovej osy máme zobrazené chudokrvnosť, 0- nemá vysoký krvný tlak, 1- má vysoký krvný tlak\n",
    "#na Y-ovej osy je zobrazené či nastalo/nenastalo úmrtie\n",
    "#rot označuje otočenie označenia hodnôt v X-ovej časti grafu\n",
    "pd.crosstab(data['high_blood_pressure'], data['DEATH_EVENT']).plot(kind = 'bar', rot = 0)"
   ]
  },
  {
   "cell_type": "code",
   "execution_count": null,
   "metadata": {},
   "outputs": [],
   "source": [
    "#Z grafu vieme vyčítať, že zomrelo viacej ľudí, ktorý netrpeli vysokým krvným tlakom"
   ]
  },
  {
   "cell_type": "code",
   "execution_count": null,
   "metadata": {},
   "outputs": [],
   "source": [
    "#pomocou knižnice pandas vytvoríme krížovú tabuľku pre hodnoty dvoch tried a zobrazíme ju ako stĺpový graf\n",
    "#v tomto prípade sa jedná o triedy fajčenie a úmrtie\n",
    "#na X-ovej osy máme zobrazené fajčenie, 0- nejačiar, 1- fajčiar\n",
    "#na Y-ovej osy je zobrazené či nastalo/nenastalo úmrtie\n",
    "#rot označuje otočenie označenia hodnôt v X-ovej časti grafu\n",
    "pd.crosstab(data['smoking'], data['DEATH_EVENT']).plot(kind = 'bar', rot = 0)"
   ]
  },
  {
   "cell_type": "code",
   "execution_count": null,
   "metadata": {},
   "outputs": [],
   "source": [
    "#Z grafu vieme vyčítať, že zomrelo viacej ľudí, ktorý nefajčili"
   ]
  },
  {
   "cell_type": "code",
   "execution_count": null,
   "metadata": {},
   "outputs": [],
   "source": [
    "#premenná death obsahuje všetky údaje z databázy, kde je hodnota smrť 1 a teda pacient zomrel\n",
    "death = data[data['DEATH_EVENT'] == 1]\n",
    "#následne vymažeme triedu/stĺpec DEATH_EVENT\n",
    "death.drop(columns=['DEATH_EVENT'], inplace=True)"
   ]
  },
  {
   "cell_type": "code",
   "execution_count": null,
   "metadata": {},
   "outputs": [],
   "source": [
    "#Test normálového rozloženia, overenie hypotézy normálového rozdelenia dát\n",
    "#Nulová hypotéza: dáta X sú z normálového rozloženia\n",
    "#chceme zistiť, ktoré z premenných sú z alebo sa približujú normálovému rozdeleniu\n",
    "#definujeme si funkciu normaltest, ktorá z datasetu death. kde všetci pacienti zomreli\n",
    "def NormalTest(cols=nekategoricke, data=death):\n",
    "    #pripravíme si premennú do ktorej vložíme triedy, ktoré majú normálové rozloženie\n",
    "    norma_attr = []\n",
    "    #prechádzame jednotlivými triedami/stĺpcami\n",
    "    for u in cols:\n",
    "        #p je chí kvadrát hypotézy, ktorý použijeme na potvrdenie alebo vyvrátenie hypotézy, k2 je z-skóre kurtosis testu\n",
    "        k2, p = normaltest(data[u])  \n",
    "        #ak je p menšie než 0.001 (šanca 1:1000), čo označuje veľmi silný dôkaz proti nulovej hypotéze \n",
    "        if p < 0.001:\n",
    "            #ak sa podmienka potvrdí a teda máme silný dôkaz pre zamietnutie hypotézy\n",
    "            print(f'Pre {u}: Môžeme nulovú hypotézu zamietnuť. pvalue={p}')\n",
    "        else:\n",
    "            #ak sa podmienka nepotvrdí, znamená to, že nulovú hypotézu potvrdujeme a následne zapisujeme dáta do premennej\n",
    "            print(f'Pre {u}: Nemôžeme zamietnuť nulovú hypotézu. pvalue={p}')\n",
    "            norma_attr.append(u)\n",
    "    #Vypíšeme, ktoré triedy/stĺpce sú z normálového rozloženia        \n",
    "    print(f'\\nTriedy z normálového rozloženia: {norma_attr}.')\n",
    "    #ako návratový typ odosielame triedy/stĺpce, ktoré sú z normálového rozloženia\n",
    "    return norma_attr"
   ]
  },
  {
   "cell_type": "code",
   "execution_count": null,
   "metadata": {},
   "outputs": [],
   "source": [
    "#do premennej normal_cols necháme zapísať výsledky normálového testu distribúcie\n",
    "normal_cols = NormalTest()"
   ]
  },
  {
   "cell_type": "code",
   "execution_count": null,
   "metadata": {},
   "outputs": [],
   "source": [
    "#Pre výsledné atribúty nekategorických dát: krvné doštičky, ejekčná frakcia a vek budeme skúmať ktoré zapríčiňujú smrť"
   ]
  },
  {
   "cell_type": "code",
   "execution_count": null,
   "metadata": {},
   "outputs": [],
   "source": [
    "#ako hlavné premenné pre príčinu smrti si zvolíme triedy v premennej col, čiže:\n",
    "#čas, ejekčná frakcia, kreatinín, vek a sodík\n",
    "col = ['time','ejection_fraction','serum_creatinine','age','serum_sodium', 'platelets']\n",
    "#predictor označuje dáta za ktorých pomoci sa budeme snažiť odhadovať či nastane alebo nenastane smrť\n",
    "predictor = data[col]\n",
    "#ako premennú, ktorú označujeme za cieľovú a teda chceme vedieť či nastane alebo nenastane smrť zvolíme DEATH_EVENT\n",
    "target = data[\"DEATH_EVENT\"]\n",
    "#premenné do ktorých rozdelíme celý náš dataset\n",
    "#delíme ich pomocou train_test_split, ktorý rozdelí dáta podľa požadovanej veľkosti na trénovacie a testovacie,\n",
    "#v našom prípade 3:7, čiže 30% bude v testovacej množine a 70% v trénovacej\n",
    "#random_state zaručí, že dáta nebudú pri viacerých spusteniach rovnako rozdelené\n",
    "X_train, X_test, y_train, y_test = train_test_split(predictor, target, test_size = 0.3, random_state = 42)\n",
    "#vypíšeme si ako sú tvarované premenné, čísla reprezentujú (záznamy, triedy) resp. (riadky, stĺpce)\n",
    "print(X_train.shape)\n",
    "print(X_test.shape)"
   ]
  },
  {
   "cell_type": "code",
   "execution_count": null,
   "metadata": {},
   "outputs": [],
   "source": [
    "#StandardScaler má za úlohu odstrániť stredové hodnoty a dáta zoškálovať podľa rozptylu\n",
    "#štandardizuje sa pomocou xscaled=(x-u)/s kde u je priemerná hodnota alebo 0, s je štandartná odchýlka\n",
    "#dáta potrebujeme mať štandardizované okolo normálovej distribúcie, pre využitie v strojovom učení musíme odstrániť všetky\n",
    "#hodnoty, ktoré by boli mimo normálového rozloženia\n",
    "#takéto hodnoty by mohli nepriaznivo ovplyvniť učenie a algoritmus by mohol zle predikovať a vyhodnocovať dáta \n",
    "sc = StandardScaler()\n",
    "#fit_transform používame na trénovacie množiny aby sme škálovali trénovacie dáta a naučili sa škláovacie parametre pre dáta\n",
    "#tieto naučené parametre sa následne využijú na škálovanie testovacích dát\n",
    "#metóda fit vypočíta priemernú hodnotu a rozptyl dát. transform následne prepočítava dáta podľa priemeru a rozptylu\n",
    "X_train = sc.fit_transform(X_train)\n",
    "#využijeme už zapamätané parametre priemeru a rozptylu na prepočítanie dát(transformáciu)\n",
    "X_test = sc.transform(X_test)"
   ]
  },
  {
   "cell_type": "code",
   "execution_count": null,
   "metadata": {},
   "outputs": [],
   "source": [
    "#Logistic Regression\n",
    "#logistická regresia odhaduje pravdepodobnosť javu na základne známych skutočností, ktoré môžu ovplyvniť nýskyt daného javu\n",
    "#v našom prípade je jav, ktorý chceme predvídať smrť, presnejšie život/smrť pacienta, tento stav sa modeluje pomocou náhodnej\n",
    "#veličiny, ktorá nadobúda hodnoty 0 alebo 1 podľa toho či stav nenastal alebo nastal\n",
    "#Logistická regresia predpokladá, že za podmienok určenými vektorom x, bude náhodná veličina Y(x) = 1 s pravdepodobnosťou\n",
    "#ktorej závyslosť na x vyjadríme logistickou funkciou P[Y(x)=1]=(exp(beta'x)/1+exp(beta'x))\n",
    "#pre dosiahnutie vždy iného poradia dát použijeme random_state, ktorý dáta využité pre klasifikátor \n",
    "#zamieša do iného poradia pri každom spustení\n",
    "classifier = LogisticRegression(random_state = 42)\n",
    "#trénovanie množiny pomocou trénovacích dát\n",
    "classifier.fit(X_train, y_train)\n",
    "#pomocou funkcie predict povieme klasifikátoru aby predpovedal pravdepodobnosť úmrtia na testovacích dátach\n",
    "y_pred = classifier.predict(X_test)\n",
    "#confucion matrix alebo matica zámen je kontingenčná matica obsahujúce stĺpce so skutočnou hodnotou prepovedaného javu\n",
    "#v riadkoch je predpoveď kalsifikátoru\n",
    "cm = confusion_matrix(y_test, y_pred)\n",
    "sns.heatmap(cm, annot=True)\n",
    "#zoberieme si presnosť s akou vyhodnocoval klasifikátor a zmeníme ju na percentá a zaokrúhľujeme presnosťou na 2 desatinné miesta\n",
    "acc_logisticregression = round(accuracy_score(y_pred, y_test) * 100, 2)\n",
    "#vypíšeme si presnosť modelu po predikcií testovacích dát\n",
    "print (\"Presnosť modelu Logistic Regression: \", acc_logisticregression) \n",
    "#classification_report ukazuje hlavné metriky po klasifikácií\n",
    "#precision je schopnosť klasifikátora neoznačiť pozitívne vzorky ako negatívne, využíva vzťah tp/(tp+fp) \n",
    "#recall je schopnosť klasifikátora nájsť všetky pozitívne vzorky, využíva vzťah tp/(tp+fn)\n",
    "#f1-score udáva priemer hodnôt precision a recall\n",
    "#support - počet výskytov každej z tried v y_pred\n",
    "print(classification_report(y_test, y_pred))"
   ]
  },
  {
   "cell_type": "code",
   "execution_count": null,
   "metadata": {},
   "outputs": [],
   "source": [
    "#Vysvetlenie confusion matrix:\n",
    "#Hodnoty y-ovej osy sú aktuálne hodnoty, 0 označuje negatívnu hodnotu (život), 1 pozitívnu hodnotu (smrť)\n",
    "#Hodnoty x-ovej osy sú predikované hodnoty, 0 označuje negatívnu hodnotu (život), 1 pozitívnu hodnotu (smrť)\n",
    "#Označenie jednotlivých hodnôt: \n",
    "#ľavá horná hodnota = true negative - tn - správne predikovaná negatívna hodnota\n",
    "#ľavá dolná hodnota = false negative - fn - nesprávne predikovaná negatívna hodnota\n",
    "#pravá horná hodnota = false positive - fp - nesprávne predikovaná správna hodnota\n",
    "#pravá dolná hodnota = true positive - tp - správne predikovaná správna hodnota"
   ]
  },
  {
   "cell_type": "code",
   "execution_count": null,
   "metadata": {},
   "outputs": [],
   "source": [
    "#RandomForest\n",
    "#Klasifikátor náhodného lesa je kombinovaná metóda pre klasifikáciu a regresiu, vytvára viacej rozhodovacích stromov,\n",
    "#následne vráti modus (najčastejšiu hodnotu) pre jednotlivé stromy pri klasifikácií a priemernú hodnotu pri predickcií(regresií) \n",
    "model = RandomForestClassifier(n_estimators=100, max_depth=5, random_state=1)\n",
    "#trénovanie množiny pomocou trénovacích dát\n",
    "model.fit(X_train, y_train)\n",
    "#pomocou funkcie predict povieme klasifikátoru aby predpovedal pravdepodobnosť úmrtia na testovacích dátach\n",
    "y_pred = model.predict(X_test)\n",
    "#confucion matrix alebo matica zámen je kontingenčná matica obsahujúce stĺpce so skutočnou hodnotou prepovedaného javu\n",
    "#v riadkoch je predpoveď kalsifikátoru\n",
    "cm = confusion_matrix(y_test, y_pred)\n",
    "sns.heatmap(cm, annot=True)\n",
    "#zoberieme si presnosť s akou vyhodnocoval klasifikátor a zmeníme ju na percentá a zaokrúhľujeme presnosťou na 2 desatinné miesta\n",
    "acc_randomforest = round(accuracy_score(y_pred, y_test) * 100, 2)\n",
    "#vypíšeme si presnosť modelu po predikcií testovacích dát\n",
    "print(\"Presnosť modelu Random Forest : \",acc_randomforest)\n",
    "#classification_report ukazuje hlavné metriky po klasifikácií\n",
    "#precision je schopnosť klasifikátora neoznačiť pozitívne vzorky ako negatívne, využíva vzťah tp/(tp+fp) \n",
    "#recall je schopnosť klasifikátora nájsť všetky pozitívne vzorky, využíva vzťah tp/(tp+fn)\n",
    "#f1-score udáva priemer hodnôt precision a recall\n",
    "#support - počet výskytov každej z tried v y_pred\n",
    "print(classification_report(y_test, y_pred))"
   ]
  },
  {
   "cell_type": "code",
   "execution_count": null,
   "metadata": {},
   "outputs": [],
   "source": [
    "#Vysvetlenie confusion matrix:\n",
    "#Hodnoty y-ovej osy sú aktuálne hodnoty, 0 označuje negatívnu hodnotu (život), 1 pozitívnu hodnotu (smrť)\n",
    "#Hodnoty x-ovej osy sú predikované hodnoty, 0 označuje negatívnu hodnotu (život), 1 pozitívnu hodnotu (smrť)\n",
    "#Označenie jednotlivých hodnôt: \n",
    "#ľavá horná hodnota = true negative - tn - správne predikovaná negatívna hodnota\n",
    "#ľavá dolná hodnota = false negative - fn - nesprávne predikovaná negatívna hodnota\n",
    "#pravá horná hodnota = false positive - fp - nesprávne predikovaná správna hodnota\n",
    "#pravá dolná hodnota = true positive - tp - správne predikovaná správna hodnota"
   ]
  },
  {
   "cell_type": "code",
   "execution_count": null,
   "metadata": {},
   "outputs": [],
   "source": [
    "#Keras\n",
    "# !!! POKIAĽ KERAS VYPISUJE CHYBU PROSÍM REŠTARTUJTE KERNEL A ZNOVU ZBEHNITE CELÝ KÓD !!!\n",
    "#vytvorenie sekvenčného modelu pre predikciu\n",
    "#Sequential je sekvenčný model, ktorý vytvorí lineárny zásobník vrstiev. \n",
    "#Výsledok jednej vrstvy posiela ako input nasledujúcej vrstve\n",
    "modelKe = Sequential()\n",
    "\n",
    "y_train = to_categorical(y_train)\n",
    "y_test = to_categorical(y_test)\n",
    "\n",
    "#do sekvenčného modelu pridávame 4 Dense vrstvy\n",
    "#Dense - vykonáva operáciu outuput = activation(dot(input, kernel)+bias), jedná sa o model plne zapojeného layeru/vrstvy\n",
    "#prvé číslo alebo units je počet neurónov ktoré sa v danej vrstve používa\n",
    "#input_dim = dimenzia vstupu, inak povedané počet vstupných tried, čo je v našom prípade 6\n",
    "#relu = jedná sa o Rectified linear unit activation function: max(x,0), ktorá vracia tensor, reprezentujúci vstupný tensor \n",
    "#transformovaná aktivačnou relu funkciou, ktorý je rovnakého tvaru a dtypu ako je vstupný tensor.\n",
    "#softmax = využíva sa na konci kategorických pravdepodobností. Táto metóda konvertuje vstup na vektor \n",
    "#kategorických pravdepodobností, výsledné hodnoty sú buď 0 alebo 1, čiže kategorické premenné\n",
    "#model má 1 vstupný layer, 1 výstupný layer a 2 hiddne layere\n",
    "modelKe.add(Dense(500, activation = 'relu', input_dim=6))\n",
    "modelKe.add(Dense(200, activation = 'relu'))\n",
    "modelKe.add(Dense(50, activation = 'relu'))\n",
    "#posledné číslo outputu je 2, pretože očakávame na výstupe 1 z 2 možností čiže život/smrť\n",
    "modelKe.add(Dense(2, activation = 'softmax'))\n",
    "#metóda compile konfiguruje proces učenia modelu\n",
    "#adam = optimalizačná metóda stochastického gradientového zostupu, založená na adaptívnom odhade momentov 1. a 2. rádu\n",
    "#categorical_crossentropy = vypočíta stratu pomocou krížovej entropie medzi poskytnutými dátami a predikciami\n",
    "#využíva sa vtedy ak používame viacej než 2 triedy v predikcií\n",
    "#accuracy = metrika vypočítavajúca ako často sa predikcia = poskytnutým dátam, navracia binárnu presnosť modelu\n",
    "modelKe.compile(optimizer='adam', loss='categorical_crossentropy', metrics=['accuracy'])\n",
    "\n",
    "#začneme s trénovaním modelu na trénovacích množinách a 100 iteráciách\n",
    "visualize = modelKe.fit(X_train, y_train, epochs=100)"
   ]
  },
  {
   "cell_type": "code",
   "execution_count": null,
   "metadata": {},
   "outputs": [],
   "source": [
    "#Podlľa accuracy v iteráciách vieme povedať s akou presnosťou sekvenčný model predikoval\n",
    "#zo začiatku model postupuje s nízkou presnosťou, postupne sa toto číslo dostáva až k presnosti 90+% \n",
    "#čo znamená veľmi veľkú presnosť"
   ]
  },
  {
   "cell_type": "code",
   "execution_count": null,
   "metadata": {},
   "outputs": [],
   "source": [
    "plt.plot(visualize.history['accuracy'])\n",
    "plt.title('Presnosť modelu v závyslosti od epoch')\n",
    "plt.ylabel('accuracy')\n",
    "plt.xlabel('epoch')\n",
    "plt.legend(['train'], loc='upper left')\n",
    "plt.show()"
   ]
  },
  {
   "cell_type": "code",
   "execution_count": null,
   "metadata": {
    "scrolled": false
   },
   "outputs": [],
   "source": [
    "plt.plot(visualize.history['loss'])\n",
    "plt.title('Chybovosť modelu  závislosti od epoch')\n",
    "plt.ylabel('loss')\n",
    "plt.xlabel('epoch')\n",
    "plt.legend(['train'], loc='upper left')\n",
    "plt.show()"
   ]
  },
  {
   "cell_type": "code",
   "execution_count": null,
   "metadata": {},
   "outputs": [],
   "source": [
    "#Modelu Keras povieme aby pomocou funkcie predict, predvídal smrť z množiny trénovacích dát\n",
    "pred_train = modelKe.predict(X_train)\n",
    "#pomocou funkcie evaluate do premennej score uložíme hodnoty straty a metriky, verbosity hovorí, či chceme progressbar priebehu  \n",
    "score = modelKe.evaluate(X_train, y_train, verbose = 0)\n",
    "#vypíšeme si výsledné presnosti a chybovosti pre tento test a zobrazíme ich v percentách\n",
    "print(\"Presnosť pri trénovacích dátach: {}% \\nChybovosť pri trénovacích dátach: {}\".format(score[1]*100, (1 - score[1])*100))"
   ]
  },
  {
   "cell_type": "code",
   "execution_count": null,
   "metadata": {},
   "outputs": [],
   "source": [
    "#Modelu Keras povieme aby pomocou funkcie predict, predvídal smrť z množiny testovacích dát \n",
    "pred_test = modelKe.predict(X_test)\n",
    "#pomocou funkcie evaluate do premennej score uložíme hodnoty straty a metriky, verbosity hovorí, či chceme progressbar priebehu  \n",
    "score2 = modelKe.evaluate(X_test, y_test, verbose = 0)\n",
    "#vypíšeme si výsledné presnosti a chybovosti pre tento test a zobrazíme ich v percentách\n",
    "print(\"Presnosť pri testovacích dátach: {}% \\nChybovosť pri testovacích dátach: {}\".format(score2[1]*100, (1 - score2[1])*100))"
   ]
  }
 ],
 "metadata": {
  "kernelspec": {
   "display_name": "Python 3",
   "language": "python",
   "name": "python3"
  },
  "language_info": {
   "codemirror_mode": {
    "name": "ipython",
    "version": 3
   },
   "file_extension": ".py",
   "mimetype": "text/x-python",
   "name": "python",
   "nbconvert_exporter": "python",
   "pygments_lexer": "ipython3",
   "version": "3.8.5"
  }
 },
 "nbformat": 4,
 "nbformat_minor": 4
}
